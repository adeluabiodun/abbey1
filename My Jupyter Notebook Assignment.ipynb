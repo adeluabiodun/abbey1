{
 "cells": [
  {
   "cell_type": "markdown",
   "id": "b9d57218-4e10-43b6-9a35-dea362a17262",
   "metadata": {},
   "source": [
    "# My Jupyter Notebook on IBM Watson Studio"
   ]
  },
  {
   "cell_type": "markdown",
   "id": "e9581a1e-a70a-4220-9238-e02899b4e08c",
   "metadata": {},
   "source": [
    "**Abiodun Adelu**\n",
    "\n",
    "Data Scientist"
   ]
  },
  {
   "cell_type": "markdown",
   "id": "5a0a39af-cfe2-4444-8330-c98e4e601c8d",
   "metadata": {},
   "source": [
    "*I am interested in data science because I love to analyze and create solutions with data*"
   ]
  },
  {
   "cell_type": "markdown",
   "id": "ee715e40-2372-4bdc-8017-67834a1b7022",
   "metadata": {},
   "source": [
    "### The following code tests basic arithmetic formula"
   ]
  },
  {
   "cell_type": "code",
   "execution_count": 1,
   "id": "0e2471f4-96cb-498a-9bb5-a06076cc4904",
   "metadata": {},
   "outputs": [
    {
     "data": {
      "text/plain": [
       "300"
      ]
     },
     "execution_count": 1,
     "metadata": {},
     "output_type": "execute_result"
    }
   ],
   "source": [
    "15*20"
   ]
  },
  {
   "cell_type": "markdown",
   "id": "ffcc89ad-c73e-4ad3-98b5-1bbebf09c2c6",
   "metadata": {},
   "source": [
    "* Ade\n",
    "* Sola\n",
    "* Bola\n",
    "* Olu\n",
    "\n",
    "www.coursera.org\n",
    "\n",
    "1. Good\n",
    "2. Better\n",
    "3. Best\n",
    "\n",
    "> Blockquote"
   ]
  },
  {
   "cell_type": "code",
   "execution_count": null,
   "id": "04b77a69-9eb8-4d37-8dbf-b78a99055514",
   "metadata": {},
   "outputs": [],
   "source": []
  }
 ],
 "metadata": {
  "kernelspec": {
   "display_name": "Python",
   "language": "python",
   "name": "conda-env-python-py"
  },
  "language_info": {
   "codemirror_mode": {
    "name": "ipython",
    "version": 3
   },
   "file_extension": ".py",
   "mimetype": "text/x-python",
   "name": "python",
   "nbconvert_exporter": "python",
   "pygments_lexer": "ipython3",
   "version": "3.7.12"
  }
 },
 "nbformat": 4,
 "nbformat_minor": 5
}
